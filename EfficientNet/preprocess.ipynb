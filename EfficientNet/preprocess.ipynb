{
 "cells": [
  {
   "cell_type": "code",
   "execution_count": 5,
   "id": "9f1e7223-de9e-4572-abf5-2c82822d6390",
   "metadata": {},
   "outputs": [],
   "source": [
    "import os\n",
    "import cv2\n",
    "import numpy as np\n",
    "\n",
    "def preprocess_image(image_path, output_path):\n",
    "    # 이미지 읽기\n",
    "    image = cv2.imread(image_path, cv2.IMREAD_GRAYSCALE)\n",
    "\n",
    "    # 검은 여백 제거 (bounding box 찾기)\n",
    "    _, binary = cv2.threshold(image, 1, 255, cv2.THRESH_BINARY)\n",
    "    x, y, w, h = cv2.boundingRect(binary)\n",
    "    cropped_image = image[y:y+h, x:x+w]\n",
    "\n",
    "    # 선명도 높이기 (언샤프 마스크 적용)\n",
    "    blurred = cv2.GaussianBlur(cropped_image, (5, 5), 0)\n",
    "    sharpened = cv2.addWeighted(cropped_image, 1.5, blurred, -0.5, 0)\n",
    "\n",
    "    # 결과 저장\n",
    "    cv2.imwrite(output_path, sharpened)\n",
    "\n",
    "def process_folder(input_folder, output_folder):\n",
    "    if not os.path.exists(output_folder):\n",
    "        os.makedirs(output_folder)\n",
    "\n",
    "    for root, dirs, files in os.walk(input_folder):\n",
    "        for folder in dirs:\n",
    "            folder_path = os.path.join(root, folder)\n",
    "            output_subfolder = os.path.join(output_folder, folder)\n",
    "            os.makedirs(output_subfolder, exist_ok=True)\n",
    "\n",
    "            for file in os.listdir(folder_path):\n",
    "                if file.endswith(('.png', '.jpg', '.jpeg', '.bmp')):\n",
    "                    input_path = os.path.join(folder_path, file)\n",
    "                    output_path = os.path.join(output_subfolder, file)\n",
    "                    preprocess_image(input_path, output_path)\n",
    "\n",
    "if __name__ == \"__main__\":\n",
    "    input_root = \"Testing\"  # input\n",
    "    output_root = \"Processed_Te\"  # output\n",
    "\n",
    "    process_folder(input_root, output_root)\n"
   ]
  },
  {
   "cell_type": "code",
   "execution_count": null,
   "id": "278342d4-04d0-4f81-95ea-f44256cd3c05",
   "metadata": {},
   "outputs": [],
   "source": []
  }
 ],
 "metadata": {
  "kernelspec": {
   "display_name": "Python 3 (ipykernel)",
   "language": "python",
   "name": "python3"
  },
  "language_info": {
   "codemirror_mode": {
    "name": "ipython",
    "version": 3
   },
   "file_extension": ".py",
   "mimetype": "text/x-python",
   "name": "python",
   "nbconvert_exporter": "python",
   "pygments_lexer": "ipython3",
   "version": "3.12.3"
  }
 },
 "nbformat": 4,
 "nbformat_minor": 5
}
